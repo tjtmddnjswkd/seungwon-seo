{
  "nbformat": 4,
  "nbformat_minor": 0,
  "metadata": {
    "kernelspec": {
      "display_name": "Python 3",
      "language": "python",
      "name": "python3"
    },
    "colab": {
      "name": "16102195서승원.ipynb",
      "provenance": []
    },
    "accelerator": "GPU"
  },
  "cells": [
    {
      "cell_type": "code",
      "metadata": {
        "id": "9gHl-GHzsecL",
        "colab_type": "code",
        "colab": {
          "base_uri": "https://localhost:8080/",
          "height": 1000
        },
        "outputId": "8da37aa0-0b25-4f19-b902-2f1b34e97a66"
      },
      "source": [
        "import tensorflow as tf \n",
        "print(tf.__version__)\n",
        "\n",
        "!pip uninstall tensorflow\n",
        "!pip install tensorflow==1.15\n",
        "\n"
      ],
      "execution_count": 1,
      "outputs": [
        {
          "output_type": "stream",
          "text": [
            "2.2.0\n",
            "Uninstalling tensorflow-2.2.0:\n",
            "  Would remove:\n",
            "    /usr/local/bin/estimator_ckpt_converter\n",
            "    /usr/local/bin/saved_model_cli\n",
            "    /usr/local/bin/tensorboard\n",
            "    /usr/local/bin/tf_upgrade_v2\n",
            "    /usr/local/bin/tflite_convert\n",
            "    /usr/local/bin/toco\n",
            "    /usr/local/bin/toco_from_protos\n",
            "    /usr/local/lib/python3.6/dist-packages/tensorflow-2.2.0.dist-info/*\n",
            "    /usr/local/lib/python3.6/dist-packages/tensorflow/*\n",
            "Proceed (y/n)? y\n",
            "  Successfully uninstalled tensorflow-2.2.0\n",
            "Collecting tensorflow==1.15\n",
            "\u001b[?25l  Downloading https://files.pythonhosted.org/packages/3f/98/5a99af92fb911d7a88a0005ad55005f35b4c1ba8d75fba02df726cd936e6/tensorflow-1.15.0-cp36-cp36m-manylinux2010_x86_64.whl (412.3MB)\n",
            "\u001b[K     |████████████████████████████████| 412.3MB 42kB/s \n",
            "\u001b[?25hRequirement already satisfied: absl-py>=0.7.0 in /usr/local/lib/python3.6/dist-packages (from tensorflow==1.15) (0.9.0)\n",
            "Requirement already satisfied: google-pasta>=0.1.6 in /usr/local/lib/python3.6/dist-packages (from tensorflow==1.15) (0.2.0)\n",
            "Collecting gast==0.2.2\n",
            "  Downloading https://files.pythonhosted.org/packages/4e/35/11749bf99b2d4e3cceb4d55ca22590b0d7c2c62b9de38ac4a4a7f4687421/gast-0.2.2.tar.gz\n",
            "Requirement already satisfied: protobuf>=3.6.1 in /usr/local/lib/python3.6/dist-packages (from tensorflow==1.15) (3.10.0)\n",
            "Collecting tensorflow-estimator==1.15.1\n",
            "\u001b[?25l  Downloading https://files.pythonhosted.org/packages/de/62/2ee9cd74c9fa2fa450877847ba560b260f5d0fb70ee0595203082dafcc9d/tensorflow_estimator-1.15.1-py2.py3-none-any.whl (503kB)\n",
            "\u001b[K     |████████████████████████████████| 512kB 44.6MB/s \n",
            "\u001b[?25hRequirement already satisfied: wrapt>=1.11.1 in /usr/local/lib/python3.6/dist-packages (from tensorflow==1.15) (1.12.1)\n",
            "Requirement already satisfied: grpcio>=1.8.6 in /usr/local/lib/python3.6/dist-packages (from tensorflow==1.15) (1.30.0)\n",
            "Requirement already satisfied: astor>=0.6.0 in /usr/local/lib/python3.6/dist-packages (from tensorflow==1.15) (0.8.1)\n",
            "Collecting tensorboard<1.16.0,>=1.15.0\n",
            "\u001b[?25l  Downloading https://files.pythonhosted.org/packages/1e/e9/d3d747a97f7188f48aa5eda486907f3b345cd409f0a0850468ba867db246/tensorboard-1.15.0-py3-none-any.whl (3.8MB)\n",
            "\u001b[K     |████████████████████████████████| 3.8MB 55.6MB/s \n",
            "\u001b[?25hRequirement already satisfied: keras-applications>=1.0.8 in /usr/local/lib/python3.6/dist-packages (from tensorflow==1.15) (1.0.8)\n",
            "Requirement already satisfied: six>=1.10.0 in /usr/local/lib/python3.6/dist-packages (from tensorflow==1.15) (1.12.0)\n",
            "Requirement already satisfied: numpy<2.0,>=1.16.0 in /usr/local/lib/python3.6/dist-packages (from tensorflow==1.15) (1.18.5)\n",
            "Requirement already satisfied: wheel>=0.26 in /usr/local/lib/python3.6/dist-packages (from tensorflow==1.15) (0.34.2)\n",
            "Requirement already satisfied: termcolor>=1.1.0 in /usr/local/lib/python3.6/dist-packages (from tensorflow==1.15) (1.1.0)\n",
            "Requirement already satisfied: opt-einsum>=2.3.2 in /usr/local/lib/python3.6/dist-packages (from tensorflow==1.15) (3.2.1)\n",
            "Requirement already satisfied: keras-preprocessing>=1.0.5 in /usr/local/lib/python3.6/dist-packages (from tensorflow==1.15) (1.1.2)\n",
            "Requirement already satisfied: setuptools in /usr/local/lib/python3.6/dist-packages (from protobuf>=3.6.1->tensorflow==1.15) (47.3.1)\n",
            "Requirement already satisfied: markdown>=2.6.8 in /usr/local/lib/python3.6/dist-packages (from tensorboard<1.16.0,>=1.15.0->tensorflow==1.15) (3.2.2)\n",
            "Requirement already satisfied: werkzeug>=0.11.15 in /usr/local/lib/python3.6/dist-packages (from tensorboard<1.16.0,>=1.15.0->tensorflow==1.15) (1.0.1)\n",
            "Requirement already satisfied: h5py in /usr/local/lib/python3.6/dist-packages (from keras-applications>=1.0.8->tensorflow==1.15) (2.10.0)\n",
            "Requirement already satisfied: importlib-metadata; python_version < \"3.8\" in /usr/local/lib/python3.6/dist-packages (from markdown>=2.6.8->tensorboard<1.16.0,>=1.15.0->tensorflow==1.15) (1.6.1)\n",
            "Requirement already satisfied: zipp>=0.5 in /usr/local/lib/python3.6/dist-packages (from importlib-metadata; python_version < \"3.8\"->markdown>=2.6.8->tensorboard<1.16.0,>=1.15.0->tensorflow==1.15) (3.1.0)\n",
            "Building wheels for collected packages: gast\n",
            "  Building wheel for gast (setup.py) ... \u001b[?25l\u001b[?25hdone\n",
            "  Created wheel for gast: filename=gast-0.2.2-cp36-none-any.whl size=7540 sha256=127a4f98f2d0156d10f7658812c1cc44d5b3dfedbbed9a40826d2284f048ada1\n",
            "  Stored in directory: /root/.cache/pip/wheels/5c/2e/7e/a1d4d4fcebe6c381f378ce7743a3ced3699feb89bcfbdadadd\n",
            "Successfully built gast\n",
            "\u001b[31mERROR: tensorflow-probability 0.10.0 has requirement gast>=0.3.2, but you'll have gast 0.2.2 which is incompatible.\u001b[0m\n",
            "Installing collected packages: gast, tensorflow-estimator, tensorboard, tensorflow\n",
            "  Found existing installation: gast 0.3.3\n",
            "    Uninstalling gast-0.3.3:\n",
            "      Successfully uninstalled gast-0.3.3\n",
            "  Found existing installation: tensorflow-estimator 2.2.0\n",
            "    Uninstalling tensorflow-estimator-2.2.0:\n",
            "      Successfully uninstalled tensorflow-estimator-2.2.0\n",
            "  Found existing installation: tensorboard 2.2.2\n",
            "    Uninstalling tensorboard-2.2.2:\n",
            "      Successfully uninstalled tensorboard-2.2.2\n",
            "Successfully installed gast-0.2.2 tensorboard-1.15.0 tensorflow-1.15.0 tensorflow-estimator-1.15.1\n"
          ],
          "name": "stdout"
        },
        {
          "output_type": "display_data",
          "data": {
            "application/vnd.colab-display-data+json": {
              "pip_warning": {
                "packages": [
                  "gast",
                  "tensorboard",
                  "tensorflow"
                ]
              }
            }
          },
          "metadata": {
            "tags": []
          }
        }
      ]
    },
    {
      "cell_type": "code",
      "metadata": {
        "id": "Krdt8eJ4sSWy",
        "colab_type": "code",
        "colab": {
          "base_uri": "https://localhost:8080/",
          "height": 618
        },
        "outputId": "9093cc5e-fbf4-4e2b-9340-85e48da78f86"
      },
      "source": [
        "\n",
        "import numpy as np\n",
        "import tensorflow as tf\n",
        "from tensorflow.examples.tutorials.mnist import input_data\n",
        "from skimage import transform\n",
        "\n",
        "\n",
        "def resize_batch(imgs):\n",
        "# A function to resize a batch of MNIST images to (32, 32)\n",
        "# Args:\n",
        "# imgs: a numpy array of size [batch_size, 28 X 28].\n",
        "# Returns:\n",
        "# a numpy array of size [batch_size, 32, 32].\n",
        "    imgs = imgs.reshape((-1, 28, 28, 1))\n",
        "    resized_imgs = np.zeros((imgs.shape[0], 32, 32, 1))\n",
        "    for i in range(imgs.shape[0]):\n",
        "        resized_imgs[i, ..., 0] = transform.resize(imgs[i, ..., 0], (32, 32))\n",
        "    \n",
        "    return resized_imgs\n",
        "mnist = input_data.read_data_sets(\"MNIST_data/\", one_hot=True)\n",
        "\n",
        "\n",
        "print(\"Training set (images): {}\".format(mnist.train.images.shape))\n",
        "print(\"Training set (labels): {}\".format(mnist.train.labels.shape))\n",
        "print(\"Test set (images): {}\".format(mnist.test.images.shape))\n",
        "print(\"Test set (labels): {}\".format(mnist.test.labels.shape))"
      ],
      "execution_count": 1,
      "outputs": [
        {
          "output_type": "stream",
          "text": [
            "WARNING:tensorflow:From <ipython-input-1-7857f75ce233>:20: read_data_sets (from tensorflow.contrib.learn.python.learn.datasets.mnist) is deprecated and will be removed in a future version.\n",
            "Instructions for updating:\n",
            "Please use alternatives such as official/mnist/dataset.py from tensorflow/models.\n",
            "WARNING:tensorflow:From /usr/local/lib/python3.6/dist-packages/tensorflow_core/contrib/learn/python/learn/datasets/mnist.py:260: maybe_download (from tensorflow.contrib.learn.python.learn.datasets.base) is deprecated and will be removed in a future version.\n",
            "Instructions for updating:\n",
            "Please write your own downloading logic.\n",
            "WARNING:tensorflow:From /usr/local/lib/python3.6/dist-packages/tensorflow_core/contrib/learn/python/learn/datasets/base.py:252: _internal_retry.<locals>.wrap.<locals>.wrapped_fn (from tensorflow.contrib.learn.python.learn.datasets.base) is deprecated and will be removed in a future version.\n",
            "Instructions for updating:\n",
            "Please use urllib or similar directly.\n",
            "Successfully downloaded train-images-idx3-ubyte.gz 9912422 bytes.\n",
            "WARNING:tensorflow:From /usr/local/lib/python3.6/dist-packages/tensorflow_core/contrib/learn/python/learn/datasets/mnist.py:262: extract_images (from tensorflow.contrib.learn.python.learn.datasets.mnist) is deprecated and will be removed in a future version.\n",
            "Instructions for updating:\n",
            "Please use tf.data to implement this functionality.\n",
            "Extracting MNIST_data/train-images-idx3-ubyte.gz\n",
            "Successfully downloaded train-labels-idx1-ubyte.gz 28881 bytes.\n",
            "WARNING:tensorflow:From /usr/local/lib/python3.6/dist-packages/tensorflow_core/contrib/learn/python/learn/datasets/mnist.py:267: extract_labels (from tensorflow.contrib.learn.python.learn.datasets.mnist) is deprecated and will be removed in a future version.\n",
            "Instructions for updating:\n",
            "Please use tf.data to implement this functionality.\n",
            "Extracting MNIST_data/train-labels-idx1-ubyte.gz\n",
            "WARNING:tensorflow:From /usr/local/lib/python3.6/dist-packages/tensorflow_core/contrib/learn/python/learn/datasets/mnist.py:110: dense_to_one_hot (from tensorflow.contrib.learn.python.learn.datasets.mnist) is deprecated and will be removed in a future version.\n",
            "Instructions for updating:\n",
            "Please use tf.one_hot on tensors.\n",
            "Successfully downloaded t10k-images-idx3-ubyte.gz 1648877 bytes.\n",
            "Extracting MNIST_data/t10k-images-idx3-ubyte.gz\n",
            "Successfully downloaded t10k-labels-idx1-ubyte.gz 4542 bytes.\n",
            "Extracting MNIST_data/t10k-labels-idx1-ubyte.gz\n",
            "WARNING:tensorflow:From /usr/local/lib/python3.6/dist-packages/tensorflow_core/contrib/learn/python/learn/datasets/mnist.py:290: DataSet.__init__ (from tensorflow.contrib.learn.python.learn.datasets.mnist) is deprecated and will be removed in a future version.\n",
            "Instructions for updating:\n",
            "Please use alternatives such as official/mnist/dataset.py from tensorflow/models.\n",
            "Training set (images): (55000, 784)\n",
            "Training set (labels): (55000, 10)\n",
            "Test set (images): (10000, 784)\n",
            "Test set (labels): (10000, 10)\n"
          ],
          "name": "stdout"
        }
      ]
    },
    {
      "cell_type": "code",
      "metadata": {
        "id": "q8EtTaSxsSW9",
        "colab_type": "code",
        "colab": {}
      },
      "source": [
        "def conv2d(x, W):\n",
        "    return tf.nn.conv2d(x, W, strides=[1,1,1,1], padding='SAME')\n",
        "\n",
        "def max_pool_2x2(x):\n",
        "    return tf.nn.max_pool(x, ksize=[1,2,2,1], strides=[1,1,1,1], padding='SAME')"
      ],
      "execution_count": 3,
      "outputs": []
    },
    {
      "cell_type": "code",
      "metadata": {
        "id": "VQBhZ7QzsSXF",
        "colab_type": "code",
        "colab": {}
      },
      "source": [
        "X = tf.placeholder(tf.float32, shape=[None, 32,32,1])\n",
        "Y = tf.placeholder(tf.float32, shape=[None,10])\n",
        "\n",
        "keep_prob = tf.placeholder(tf.float32)\n",
        "\n",
        "#conv layer0\n",
        "W_conv0 = tf.Variable(tf.random_normal([3, 3, 1, 32]))\n",
        "# b_conv0 = tf.Variable(tf.random_normal([32]))\n",
        "\n",
        "conv0 = conv2d(X, W_conv0)\n",
        "h_conv0 = tf.nn.relu(conv0)\n",
        "h_pool0 = tf.nn.max_pool(h_conv0, ksize=[1,2,2,1], strides=[1,2,2,1], padding='SAME')\n",
        "layer0 = h_pool0\n",
        "\n",
        "layer0_drop = tf.nn.dropout(layer0, keep_prob)\n",
        "\n",
        "#conv layer1\n",
        "W_conv1 = tf.Variable(tf.random_normal([3, 3, 32, 64]))\n",
        "# b_conv1 = tf.Variable(tf.random_normal([64]))\n",
        "\n",
        "conv1 = conv2d(layer0, W_conv1)\n",
        "h_conv1 = tf.nn.relu(conv1)\n",
        "h_pool1 = max_pool_2x2(h_conv1)\n",
        "layer1 = h_pool1\n",
        "\n",
        "layer1_drop = tf.nn.dropout(layer1, keep_prob)\n",
        "\n",
        "#conv layer2\n",
        "W_conv2 = tf.Variable(tf.random_normal([3, 3, 64, 128]))\n",
        "# b_conv2 = tf.Variable(tf.random_normal([128]))\n",
        "\n",
        "conv2 = conv2d(layer1, W_conv2)\n",
        "h_conv2 = tf.nn.relu(conv2)\n",
        "h_pool2 = max_pool_2x2(h_conv2)\n",
        "layer2 = h_pool2\n",
        "\n",
        "layer2_drop = tf.nn.dropout(layer2, keep_prob)\n",
        "\n",
        "#conv layer3\n",
        "W_conv3 = tf.Variable(tf.random_normal([3, 3, 128, 256]))\n",
        "# b_conv3 = tf.Variable(tf.random_normal([256]))\n",
        "\n",
        "conv3 = conv2d(layer2, W_conv3) \n",
        "h_conv3 = tf.nn.relu(conv3)\n",
        "h_pool3 = tf.nn.max_pool(h_conv3, ksize=[1,2,2,1], strides=[1,2,2,1], padding='SAME')\n",
        "layer3 = h_pool3\n",
        "\n",
        "layer3_drop = tf.nn.dropout(layer3, keep_prob)\n",
        "\n",
        "#conv layer4\n",
        "W_conv4 = tf.Variable(tf.random_normal([3, 3, 256, 512]))\n",
        "# b_conv4 = tf.Variable(tf.random_normal([512]))\n",
        "\n",
        "conv4 = conv2d(layer3, W_conv4) \n",
        "h_conv4 = tf.nn.relu(conv4)\n",
        "h_pool4 = tf.nn.max_pool(h_conv4, ksize=[1,2,2,1], strides=[1,2,2,1], padding='SAME')\n",
        "layer4 = h_pool4\n",
        "\n",
        "layer4_drop = tf.nn.dropout(layer4, keep_prob)\n",
        "\n",
        "# fc1 - 1024\n",
        "W_fc1 = tf.Variable(tf.random_normal([4*4*512, 4096]))\n",
        "# b_fc1 = tf.Variable(tf.random_normal([4096]))\n",
        "layer4_matrix = tf.reshape(layer4, [-1, 4*4*512])\n",
        "matmul_fc1 = tf.matmul(layer4_matrix, W_fc1) \n",
        "h_fc1 = tf.nn.relu(matmul_fc1)\n",
        "layer5 = h_fc1\n",
        "\n",
        "layer5_drop = tf.nn.dropout(layer5, keep_prob)\n",
        "\n",
        "# fc2 - 512\n",
        "W_fc2 = tf.Variable(tf.random_normal([4096, 2048]))\n",
        "# b_fc2 = tf.Variable(tf.random_normal([1024]))\n",
        "matmul_fc2 = tf.matmul(layer5, W_fc2)\n",
        "h_fc2 = tf.nn.relu(matmul_fc2)\n",
        "layer6 = h_fc2\n",
        "\n",
        "layer6_drop = tf.nn.dropout(layer6, keep_prob)\n",
        "\n",
        "\n",
        "# fc3 - 10\n",
        "W_fc3 = tf.Variable(tf.random_normal([2048, 512]))\n",
        "# b_fc3 = tf.Variable(tf.random_normal([512]))\n",
        "matmul_fc3 = tf.matmul(layer6, W_fc3) \n",
        "h_fc3 = tf.nn.relu(matmul_fc3)\n",
        "layer7 = h_fc3\n",
        "\n",
        "layer7_drop = tf.nn.dropout(layer7, keep_prob)\n",
        "#fc_4\n",
        "W_fc4 = tf.Variable(tf.random_normal([512, 10]))\n",
        "# b_fc4 = tf.Variable(tf.random_normal([10]))\n",
        "matmul_fc4 = tf.matmul(layer7, W_fc4) \n",
        "\n",
        "### prediction and accruacy\n",
        "loss=tf.reduce_mean(tf.nn.softmax_cross_entropy_with_logits(logits=matmul_fc4, labels=Y))\n",
        "correct_prediction = tf.equal(tf.argmax(matmul_fc4, axis=1), tf.argmax(Y, axis=1))\n",
        "accuracy = tf.reduce_mean(tf.cast(correct_prediction, tf.float32))"
      ],
      "execution_count": 6,
      "outputs": []
    },
    {
      "cell_type": "code",
      "metadata": {
        "id": "-cM-3U8csSXM",
        "colab_type": "code",
        "colab": {
          "base_uri": "https://localhost:8080/",
          "height": 298
        },
        "outputId": "373dc1e9-0ca4-4fc2-86ab-709df8693686"
      },
      "source": [
        "LEARNING_RATE = 0.001\n",
        "EPOCHS = 15\n",
        "BATCH_SIZE = 100\n",
        "\n",
        "optimizer = tf.train.AdamOptimizer(LEARNING_RATE).minimize(loss)\n",
        "    \n",
        "with tf.Session() as sess:\n",
        "    sess.run(tf.global_variables_initializer())\n",
        "    \n",
        "    for epoch in range(EPOCHS):\n",
        "        for _ in range(int(mnist.train.num_examples / BATCH_SIZE)):\n",
        "            X_batch, Y_batch = mnist.train.next_batch(BATCH_SIZE)\n",
        "            X_batch = resize_batch(X_batch)\n",
        "            \n",
        "            sess.run(optimizer, feed_dict={X: X_batch, Y: Y_batch,keep_prob:1.0})\n",
        "\n",
        "        if (epoch+1) % 1 == 0:\n",
        "            acc_val = sess.run(accuracy,\n",
        "                feed_dict={X: resize_batch(mnist.test.images),\n",
        "                    Y: mnist.test.labels})\n",
        "            print(\"epoch: {:04d}, accuracy: {:.4f}\".format(epoch+1, acc_val))\n",
        "    print(\"Learning finished.\")"
      ],
      "execution_count": 7,
      "outputs": [
        {
          "output_type": "stream",
          "text": [
            "epoch: 0001, accuracy: 0.9358\n",
            "epoch: 0002, accuracy: 0.9589\n",
            "epoch: 0003, accuracy: 0.9838\n",
            "epoch: 0004, accuracy: 0.9786\n",
            "epoch: 0005, accuracy: 0.9815\n",
            "epoch: 0006, accuracy: 0.9824\n",
            "epoch: 0007, accuracy: 0.9831\n",
            "epoch: 0008, accuracy: 0.9860\n",
            "epoch: 0009, accuracy: 0.9846\n",
            "epoch: 0010, accuracy: 0.9847\n",
            "epoch: 0011, accuracy: 0.9820\n",
            "epoch: 0012, accuracy: 0.9803\n",
            "epoch: 0013, accuracy: 0.9871\n",
            "epoch: 0014, accuracy: 0.9836\n",
            "epoch: 0015, accuracy: 0.9845\n",
            "Learning finished.\n"
          ],
          "name": "stdout"
        }
      ]
    },
    {
      "cell_type": "code",
      "metadata": {
        "id": "2pDFvT4ssSXU",
        "colab_type": "code",
        "colab": {}
      },
      "source": [
        ""
      ],
      "execution_count": null,
      "outputs": []
    }
  ]
}