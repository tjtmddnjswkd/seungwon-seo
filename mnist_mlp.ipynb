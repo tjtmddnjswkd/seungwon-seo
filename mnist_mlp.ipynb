{
 "cells": [
  {
   "cell_type": "code",
   "execution_count": 3,
   "metadata": {},
   "outputs": [
    {
     "name": "stdout",
     "output_type": "stream",
     "text": [
      "Extracting MNIST_data/train-images-idx3-ubyte.gz\n",
      "Extracting MNIST_data/train-labels-idx1-ubyte.gz\n",
      "Extracting MNIST_data/t10k-images-idx3-ubyte.gz\n",
      "Extracting MNIST_data/t10k-labels-idx1-ubyte.gz\n",
      "Training set (images): (55000, 784)\n",
      "Training set (labels): (55000, 10)\n",
      "Test set (images): (10000, 784)\n",
      "Test set (labels): (10000, 10)\n"
     ]
    }
   ],
   "source": [
    "import numpy as np\n",
    "import random\n",
    "import matplotlib.pyplot as plt\n",
    "%matplotlib inline\n",
    "from sklearn.metrics import classification_report\n",
    "import tensorflow as tf\n",
    "from tensorflow.examples.tutorials.mnist import input_data\n",
    "mnist = input_data.read_data_sets('MNIST_data/',\n",
    "source_url='http://fashion-mnist.s3-website.eu-central-1.amazonaws.com/',\n",
    "one_hot=True)\n",
    "\n",
    "print(\"Training set (images): {}\".format(mnist.train.images.shape))\n",
    "print(\"Training set (labels): {}\".format(mnist.train.labels.shape))\n",
    "print(\"Test set (images): {}\".format(mnist.test.images.shape))\n",
    "print(\"Test set (labels): {}\".format(mnist.test.labels.shape))"
   ]
  },
  {
   "cell_type": "code",
   "execution_count": 5,
   "metadata": {},
   "outputs": [
    {
     "name": "stdout",
     "output_type": "stream",
     "text": [
      "y = 3 (Dress)\n"
     ]
    },
    {
     "data": {
      "text/plain": [
       "<matplotlib.image.AxesImage at 0x239800fafc8>"
      ]
     },
     "execution_count": 5,
     "metadata": {},
     "output_type": "execute_result"
    },
    {
     "data": {
      "image/png": "[encoded data removed]",
      "text/plain": [
       "<Figure size 432x288 with 1 Axes>"
      ]
     },
     "metadata": {
      "needs_background": "light"
     },
     "output_type": "display_data"
    }
   ],
   "source": [
    "label_names = [\n",
    "'T-shirt/top', 'Trouser', 'Pullover', 'Dress', 'Coat',\n",
    "'Sandal', 'Shirt', 'Sneaker', 'Bag', 'Ankle boot'\n",
    "]\n",
    "# get 28 by 28 image\n",
    "sample_1 = mnist.train.images[47].reshape(28, 28)\n",
    "# get corresponding integer label from one-hot encoded data\n",
    "sample_label_1 = np.where(mnist.train.labels[47] == 1)[0][0]\n",
    "# plot sample\n",
    "print(\"y = {label_index} ({label})\".format(\n",
    "label_index=sample_label_1, label=label_names[sample_label_1]))\n",
    "plt.imshow(sample_1, cmap='Greys')"
   ]
  },
  {
   "cell_type": "code",
   "execution_count": 7,
   "metadata": {},
   "outputs": [],
   "source": [
    "X=tf.placeholder(dtype=tf.float32,shape=[None,784])\n",
    "Y=tf.placeholder(dtype=tf.float32,shape=[None,10])\n",
    "\n",
    "W1=tf.Variable(tf.random_normal([784,256]))\n",
    "b1=tf.Variable(tf.random_normal([256]))\n",
    "Z1=tf.nn.sigmoid(tf.matmul(X,W1)+b1)\n",
    "\n",
    "W2=tf.Variable(tf.random_normal([256,10]))\n",
    "b2=tf.Variable(tf.random_normal([10]))\n",
    "S2=tf.matmul(Z1,W2)+b2\n",
    "\n",
    "hypothesis=S2\n",
    "\n",
    "loss=tf.reduce_mean(tf.nn.softmax_cross_entropy_with_logits_v2(logits=hypothesis, labels=Y))\n",
    "\n",
    "corrects=tf.equal(tf.argmax(hypothesis,axis=1),tf.argmax(Y,axis=1))\n",
    "accuracy=tf.reduce_mean(tf.cast(corrects,tf.float32))"
   ]
  },
  {
   "cell_type": "code",
   "execution_count": 13,
   "metadata": {},
   "outputs": [
    {
     "name": "stdout",
     "output_type": "stream",
     "text": [
      "epoch: 0001, accuracy: 0.76\n",
      "epoch: 0002, accuracy: 0.79\n",
      "epoch: 0003, accuracy: 0.81\n",
      "epoch: 0004, accuracy: 0.82\n",
      "epoch: 0005, accuracy: 0.83\n",
      "epoch: 0006, accuracy: 0.83\n",
      "epoch: 0007, accuracy: 0.84\n",
      "epoch: 0008, accuracy: 0.84\n",
      "epoch: 0009, accuracy: 0.85\n",
      "epoch: 0010, accuracy: 0.85\n",
      "epoch: 0011, accuracy: 0.85\n",
      "epoch: 0012, accuracy: 0.85\n",
      "epoch: 0013, accuracy: 0.85\n",
      "epoch: 0014, accuracy: 0.85\n",
      "epoch: 0015, accuracy: 0.86\n",
      "epoch: 0016, accuracy: 0.86\n",
      "epoch: 0017, accuracy: 0.86\n",
      "epoch: 0018, accuracy: 0.86\n",
      "epoch: 0019, accuracy: 0.86\n",
      "epoch: 0020, accuracy: 0.86\n",
      "epoch: 0021, accuracy: 0.86\n",
      "epoch: 0022, accuracy: 0.86\n",
      "epoch: 0023, accuracy: 0.86\n",
      "epoch: 0024, accuracy: 0.86\n",
      "epoch: 0025, accuracy: 0.86\n",
      "epoch: 0026, accuracy: 0.87\n",
      "epoch: 0027, accuracy: 0.87\n",
      "epoch: 0028, accuracy: 0.87\n",
      "epoch: 0029, accuracy: 0.87\n",
      "epoch: 0030, accuracy: 0.86\n",
      "epoch: 0031, accuracy: 0.87\n",
      "epoch: 0032, accuracy: 0.87\n",
      "epoch: 0033, accuracy: 0.87\n",
      "epoch: 0034, accuracy: 0.87\n",
      "epoch: 0035, accuracy: 0.87\n",
      "epoch: 0036, accuracy: 0.87\n",
      "epoch: 0037, accuracy: 0.87\n",
      "epoch: 0038, accuracy: 0.87\n",
      "epoch: 0039, accuracy: 0.87\n",
      "epoch: 0040, accuracy: 0.87\n",
      "epoch: 0041, accuracy: 0.87\n",
      "epoch: 0042, accuracy: 0.87\n",
      "epoch: 0043, accuracy: 0.87\n",
      "epoch: 0044, accuracy: 0.87\n",
      "epoch: 0045, accuracy: 0.87\n",
      "epoch: 0046, accuracy: 0.87\n",
      "epoch: 0047, accuracy: 0.87\n",
      "epoch: 0048, accuracy: 0.87\n",
      "epoch: 0049, accuracy: 0.87\n",
      "epoch: 0050, accuracy: 0.87\n",
      "Learning finished.\n",
      "              precision    recall  f1-score   support\n",
      "\n",
      " T-shirt/top       0.81      0.83      0.82      1000\n",
      "     Trouser       0.98      0.96      0.97      1000\n",
      "    Pullover       0.81      0.72      0.76      1000\n",
      "       Dress       0.87      0.89      0.88      1000\n",
      "        Coat       0.75      0.83      0.79      1000\n",
      "      Sandal       0.96      0.94      0.95      1000\n",
      "       Shirt       0.68      0.65      0.67      1000\n",
      "     Sneaker       0.94      0.94      0.94      1000\n",
      "         Bag       0.95      0.96      0.96      1000\n",
      "  Ankle boot       0.94      0.96      0.95      1000\n",
      "\n",
      "    accuracy                           0.87     10000\n",
      "   macro avg       0.87      0.87      0.87     10000\n",
      "weighted avg       0.87      0.87      0.87     10000\n",
      "\n"
     ]
    }
   ],
   "source": [
    "LEARNING_RATE = 0.001\n",
    "EPOCHS = 50\n",
    "BATCH_SIZE = 100\n",
    "\n",
    "optimizer = tf.train.AdamOptimizer(LEARNING_RATE).minimize(loss)\n",
    "\n",
    "with tf.Session() as sess:\n",
    "    sess.run(tf.global_variables_initializer())\n",
    "    \n",
    "    for epoch in range(EPOCHS):\n",
    "        for _ in range(int(mnist.train.num_examples / BATCH_SIZE)):\n",
    "            X_batch, Y_batch = mnist.train.next_batch(BATCH_SIZE)\n",
    "            sess.run(optimizer,feed_dict={X:X_batch,Y:Y_batch})\n",
    "            \n",
    "        if (epoch+1) % 1 == 0:\n",
    "            acc_val = sess.run( accuracy , feed_dict={X:mnist.test.images,Y:mnist.test.labels})\n",
    "            print(\"epoch: {:04d}, accuracy: {:.2f}\".format(epoch+1, acc_val))\n",
    "        \n",
    "    print(\"Learning finished.\")\n",
    "        \n",
    "    pred_val = sess.run( hypothesis , feed_dict={X:mnist.test.images,Y:mnist.test.labels})\n",
    "    print(classification_report(mnist.test.labels.argmax(axis=1),\n",
    "        pred_val.argmax(axis=1), target_names=label_names))"
   ]
  }
 ],
 "metadata": {
  "kernelspec": {
   "display_name": "Python 3",
   "language": "python",
   "name": "python3"
  },
  "language_info": {
   "codemirror_mode": {
    "name": "ipython",
    "version": 3
   },
   "file_extension": ".py",
   "mimetype": "text/x-python",
   "name": "python",
   "nbconvert_exporter": "python",
   "pygments_lexer": "ipython3",
   "version": "3.7.6"
  }
 },
 "nbformat": 4,
 "nbformat_minor": 4
}
